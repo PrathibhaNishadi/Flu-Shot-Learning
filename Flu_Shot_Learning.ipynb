{
  "nbformat": 4,
  "nbformat_minor": 0,
  "metadata": {
    "colab": {
      "name": "Flu Shot Learning.ipynb",
      "provenance": [],
      "include_colab_link": true
    },
    "kernelspec": {
      "name": "python3",
      "display_name": "Python 3"
    }
  },
  "cells": [
    {
      "cell_type": "markdown",
      "metadata": {
        "id": "view-in-github",
        "colab_type": "text"
      },
      "source": [
        "<a href=\"https://colab.research.google.com/github/PrathibhaNishadi/Flu-Shot-Learning/blob/main/Flu_Shot_Learning.ipynb\" target=\"_parent\"><img src=\"https://colab.research.google.com/assets/colab-badge.svg\" alt=\"Open In Colab\"/></a>"
      ]
    },
    {
      "cell_type": "code",
      "metadata": {
        "id": "Ed3qsmB4DwoT"
      },
      "source": [
        "from pathlib import Path\n",
        "\n",
        "import numpy as np\n",
        "import pandas as pd\n",
        "\n",
        "\n",
        "pd.set_option(\"display.max_columns\", 100)\n",
        "\n",
        "from google.colab import drive\n",
        "\n",
        "drive.mount('/content/gdrive')\n",
        "DATA_PATH = \"/DataFiles/\"\n",
        "features_df = pd.read_csv(\n",
        "    DATA_PATH + \"training_set_features.csv\", \n",
        "    index_col=\"respondent_id\"\n",
        ")\n",
        "labels_df = pd.read_csv(\n",
        "    DATA_PATH + \"training_set_labels.csv\", \n",
        "    index_col=\"respondent_id\"\n",
        ")\n",
        "\n",
        "test_features_df = pd.read_csv(DATA_PATH + \"test_set_features.csv\", \n",
        "                               index_col=\"respondent_id\")\n",
        "print(\"features_df.shape\", features_df.shape)\n",
        "features_df.head()\n",
        "features_df.dtypes\n",
        "print(\"labels_df.shape\", labels_df.shape)\n",
        "labels_df.head()\n",
        "\n",
        "np.testing.assert_array_equal(features_df.index.values, labels_df.index.values)"
      ],
      "execution_count": null,
      "outputs": []
    },
    {
      "cell_type": "code",
      "metadata": {
        "id": "A4CBZIXQ6lyo"
      },
      "source": [
        "labels_df.info()"
      ],
      "execution_count": null,
      "outputs": []
    },
    {
      "cell_type": "code",
      "metadata": {
        "id": "2zj2vwKn61tr"
      },
      "source": [
        "features_df.info()"
      ],
      "execution_count": null,
      "outputs": []
    },
    {
      "cell_type": "code",
      "metadata": {
        "id": "lNHqaZaTD-zw"
      },
      "source": [
        "%matplotlib inline\n",
        "import matplotlib.pyplot as plt\n",
        "from sklearn.preprocessing import StandardScaler\n",
        "from sklearn.impute import SimpleImputer\n",
        "from sklearn.compose import ColumnTransformer\n",
        "\n",
        "from sklearn.linear_model import LogisticRegression\n",
        "from sklearn.multioutput import MultiOutputClassifier\n",
        "\n",
        "from sklearn.pipeline import Pipeline\n",
        "\n",
        "from sklearn.model_selection import train_test_split\n",
        "\n",
        "from sklearn.metrics import roc_curve, roc_auc_score\n",
        "\n",
        "from sklearn.preprocessing import OneHotEncoder\n",
        "from xgboost import XGBClassifier\n",
        "from sklearn.ensemble import RandomForestClassifier\n",
        "\n",
        "from sklearn.neural_network import MLPClassifier"
      ],
      "execution_count": 2,
      "outputs": []
    },
    {
      "cell_type": "markdown",
      "metadata": {
        "id": "QC8uZkVr7Hwj"
      },
      "source": [
        "Convert age into categorical values"
      ]
    },
    {
      "cell_type": "code",
      "metadata": {
        "id": "_FaFN10i7KlQ"
      },
      "source": [
        "def change_age_group_column(x):\n",
        "  if x['age_group'] == \"18 - 34 Years\":\n",
        "    return 1\n",
        "  elif x['age_group'] == \"35 - 44 Years\":\n",
        "    return 2\n",
        "  elif x['age_group'] == \"45 - 54 Years\":\n",
        "    return 3\n",
        "  elif x['age_group'] == \"55 - 64 Years\":\n",
        "    return 4\n",
        "  elif x[\"age_group\"] == \"65+ Years\":\n",
        "    return 5\n",
        "  else: \n",
        "    return float(\"nan\")\n",
        "\n",
        "features_df['age_group'] = features_df.apply(lambda x : change_age_group_column(x),axis=1)\n",
        "test_features_df['age_group'] = test_features_df.apply(lambda x : change_age_group_column(x),axis=1)\n",
        "\n"
      ],
      "execution_count": null,
      "outputs": []
    },
    {
      "cell_type": "code",
      "metadata": {
        "id": "4YQ1oEutD-wi"
      },
      "source": [
        "numeric_cols = features_df.columns[features_df.dtypes != \"object\"].values"
      ],
      "execution_count": 3,
      "outputs": []
    },
    {
      "cell_type": "code",
      "metadata": {
        "id": "314AcRFbD-tf"
      },
      "source": [
        "# chain preprocessing into a Pipeline object\n",
        "# each step is a tuple of (name you chose, sklearn transformer)\n",
        "numeric_preprocessing_steps = Pipeline([\n",
        "    ('standard_scaler', StandardScaler()),\n",
        "    ('simple_imputer', SimpleImputer(strategy='mean'))\n",
        "])"
      ],
      "execution_count": 4,
      "outputs": []
    },
    {
      "cell_type": "markdown",
      "metadata": {
        "id": "ooZmoUY67TLW"
      },
      "source": [
        "Fill the missing values from Inputer and onehot encoding for prepare a numeric array for the numerical categorical values"
      ]
    },
    {
      "cell_type": "code",
      "metadata": {
        "id": "NeVv8cFpD-qY"
      },
      "source": [
        "cat_cols = features_df.columns[features_df.dtypes == \"object\"].values\n",
        "categorical_transformer = Pipeline(steps=[\n",
        "    ('imputer', SimpleImputer(strategy='constant', fill_value='missing')),\n",
        "    ('onehot', OneHotEncoder(handle_unknown='ignore'))])"
      ],
      "execution_count": 5,
      "outputs": []
    },
    {
      "cell_type": "code",
      "metadata": {
        "id": "oEs91JUMD-m_"
      },
      "source": [
        "preprocessor = ColumnTransformer(\n",
        "    transformers = [\n",
        "        (\"numeric\", numeric_preprocessing_steps, numeric_cols),\n",
        "        (\"cat\", categorical_transformer,cat_cols)\n",
        "    ],\n",
        "    remainder = \"drop\"\n",
        ")"
      ],
      "execution_count": 6,
      "outputs": []
    },
    {
      "cell_type": "code",
      "metadata": {
        "id": "k2hZbu8I7Pdc"
      },
      "source": [
        "!pip install catboost"
      ],
      "execution_count": null,
      "outputs": []
    },
    {
      "cell_type": "markdown",
      "metadata": {
        "id": "Sbm3XVkJ6ZDN"
      },
      "source": [
        "Import the relevent classifiers and libraries"
      ]
    },
    {
      "cell_type": "code",
      "metadata": {
        "id": "8jvo1mxnIdIC"
      },
      "source": [
        "from sklearn.linear_model import LogisticRegression\n",
        "from sklearn.model_selection import cross_val_score, cross_val_predict, StratifiedKFold,  KFold, train_test_split\n",
        "from sklearn.preprocessing import StandardScaler\n",
        "from sklearn.ensemble import RandomForestClassifier, VotingClassifier\n",
        "from xgboost import XGBClassifier\n",
        "from sklearn.discriminant_analysis import LinearDiscriminantAnalysis\n",
        "from sklearn import svm\n",
        "from sklearn.tree import DecisionTreeClassifier\n",
        "from sklearn.neighbors import KNeighborsClassifier\n",
        "from sklearn.linear_model import SGDClassifier\n",
        "from sklearn.ensemble import AdaBoostClassifier\n",
        "from sklearn.ensemble import StackingClassifier\n",
        "from sklearn.neural_network import MLPClassifier\n",
        "from catboost import CatBoostClassifier"
      ],
      "execution_count": 8,
      "outputs": []
    },
    {
      "cell_type": "markdown",
      "metadata": {
        "id": "TDsJTKC-0myi"
      },
      "source": [
        "Use a ensemble model for higher accuracy. Can use the commented classifiers as well and tune the parameters for higher accuracies"
      ]
    },
    {
      "cell_type": "code",
      "metadata": {
        "id": "f13bFjFpIeg2"
      },
      "source": [
        "level0Class = list()\n",
        "\n",
        "level0Class.append(('xg',XGBClassifier(n_estimators=251, max_depth=4, learning_rate=0.10, colsample_bytree=0.2,reg_lambda=1, silent=False)))\n",
        "#level0Class.append(('rf',RandomForestClassifier()))\n",
        "#level0Class.append(('svm',svm.SVC()))\n",
        "#level0Class.append(('mlp',MLPClassifier()))\n",
        "#level0Class.append(('ada', AdaBoostClassifier()))\n",
        "level0Class.append(('ctb',CatBoostClassifier(learning_rate=0.10)))\n",
        "\n",
        "\n",
        "#mettaclassifier\n",
        "\n",
        "level1Class = LogisticRegression(penalty=\"l2\")\n",
        "\n",
        "estimators = StackingClassifier(estimators= level0Class, final_estimator= level1Class, cv=5)\n",
        "estimators.get_params"
      ],
      "execution_count": null,
      "outputs": []
    },
    {
      "cell_type": "markdown",
      "metadata": {
        "id": "eHtPLErX0XHQ"
      },
      "source": [
        "Put the model in a multi output classifier"
      ]
    },
    {
      "cell_type": "code",
      "metadata": {
        "id": "gA_OpsIND-gH"
      },
      "source": [
        "full_pipeline = Pipeline([\n",
        "    (\"preprocessor\", preprocessor),\n",
        "    (\"estimators\", MultiOutputClassifier(estimators)),\n",
        "])\n",
        "full_pipeline"
      ],
      "execution_count": null,
      "outputs": []
    },
    {
      "cell_type": "markdown",
      "metadata": {
        "id": "d3XYs-GG0GaA"
      },
      "source": [
        "Split the training data set for train and evaluation and fit to the model to train"
      ]
    },
    {
      "cell_type": "code",
      "metadata": {
        "id": "jd3623IrD-co"
      },
      "source": [
        "\n",
        "X_train, X_eval, y_train, y_eval = train_test_split(\n",
        "    features_df,\n",
        "    labels_df,\n",
        "    test_size=0.33,\n",
        "    shuffle=True,\n",
        "    stratify=labels_df,\n",
        "    random_state=6\n",
        ")"
      ],
      "execution_count": 16,
      "outputs": []
    },
    {
      "cell_type": "code",
      "metadata": {
        "id": "Znh2CgHSD-Yx"
      },
      "source": [
        "full_pipeline.fit(X_train, y_train)"
      ],
      "execution_count": null,
      "outputs": []
    },
    {
      "cell_type": "markdown",
      "metadata": {
        "id": "Nhnttzspz8-Q"
      },
      "source": [
        "Predict on evaluation set. Output is a probability"
      ]
    },
    {
      "cell_type": "code",
      "metadata": {
        "id": "xy_w8Oi4D-VP",
        "outputId": "f0da3176-686b-4e0f-9f16-2bcfe56186c0",
        "colab": {
          "base_uri": "https://localhost:8080/",
          "height": 242
        }
      },
      "source": [
        "\n",
        "preds = full_pipeline.predict_proba(X_eval)\n",
        "preds\n",
        "y_preds = pd.DataFrame(\n",
        "    {\n",
        "        \"h1n1_vaccine\": preds[0][:, 1],\n",
        "        \"seasonal_vaccine\": preds[1][:, 1],\n",
        "    },\n",
        "    index = y_eval.index\n",
        ")\n",
        "print(\"y_preds.shape:\", y_preds.shape)\n",
        "y_preds.head()"
      ],
      "execution_count": 19,
      "outputs": [
        {
          "output_type": "stream",
          "text": [
            "y_preds.shape: (8814, 2)\n"
          ],
          "name": "stdout"
        },
        {
          "output_type": "execute_result",
          "data": {
            "text/html": [
              "<div>\n",
              "<style scoped>\n",
              "    .dataframe tbody tr th:only-of-type {\n",
              "        vertical-align: middle;\n",
              "    }\n",
              "\n",
              "    .dataframe tbody tr th {\n",
              "        vertical-align: top;\n",
              "    }\n",
              "\n",
              "    .dataframe thead th {\n",
              "        text-align: right;\n",
              "    }\n",
              "</style>\n",
              "<table border=\"1\" class=\"dataframe\">\n",
              "  <thead>\n",
              "    <tr style=\"text-align: right;\">\n",
              "      <th></th>\n",
              "      <th>h1n1_vaccine</th>\n",
              "      <th>seasonal_vaccine</th>\n",
              "    </tr>\n",
              "    <tr>\n",
              "      <th>respondent_id</th>\n",
              "      <th></th>\n",
              "      <th></th>\n",
              "    </tr>\n",
              "  </thead>\n",
              "  <tbody>\n",
              "    <tr>\n",
              "      <th>6728</th>\n",
              "      <td>0.503430</td>\n",
              "      <td>0.657059</td>\n",
              "    </tr>\n",
              "    <tr>\n",
              "      <th>16516</th>\n",
              "      <td>0.066649</td>\n",
              "      <td>0.384970</td>\n",
              "    </tr>\n",
              "    <tr>\n",
              "      <th>3106</th>\n",
              "      <td>0.070381</td>\n",
              "      <td>0.686752</td>\n",
              "    </tr>\n",
              "    <tr>\n",
              "      <th>16981</th>\n",
              "      <td>0.914091</td>\n",
              "      <td>0.915841</td>\n",
              "    </tr>\n",
              "    <tr>\n",
              "      <th>19111</th>\n",
              "      <td>0.068146</td>\n",
              "      <td>0.702695</td>\n",
              "    </tr>\n",
              "  </tbody>\n",
              "</table>\n",
              "</div>"
            ],
            "text/plain": [
              "               h1n1_vaccine  seasonal_vaccine\n",
              "respondent_id                                \n",
              "6728               0.503430          0.657059\n",
              "16516              0.066649          0.384970\n",
              "3106               0.070381          0.686752\n",
              "16981              0.914091          0.915841\n",
              "19111              0.068146          0.702695"
            ]
          },
          "metadata": {
            "tags": []
          },
          "execution_count": 19
        }
      ]
    },
    {
      "cell_type": "markdown",
      "metadata": {
        "id": "-Rj3_CN4z3UD"
      },
      "source": [
        "Plot the accuracy of the predicted evaluation dataset"
      ]
    },
    {
      "cell_type": "code",
      "metadata": {
        "id": "lt-U29D-D-R8",
        "outputId": "a3b2b9ae-ac8a-4fe6-9f36-ad54686bd64c",
        "colab": {
          "base_uri": "https://localhost:8080/",
          "height": 278
        }
      },
      "source": [
        "def plot_roc(y_true, y_score, label_name, ax):\n",
        "    fpr, tpr, thresholds = roc_curve(y_true, y_score)\n",
        "    ax.plot(fpr, tpr)\n",
        "    ax.plot([0, 1], [0, 1], color='grey', linestyle='--')\n",
        "    ax.set_ylabel('TPR')\n",
        "    ax.set_xlabel('FPR')\n",
        "    ax.set_title(\n",
        "        f\"{label_name}: AUC = {roc_auc_score(y_true, y_score):.4f}\"\n",
        "    )\n",
        "fig, ax = plt.subplots(1, 2, figsize=(7, 3.5))\n",
        "\n",
        "plot_roc(\n",
        "    y_eval['h1n1_vaccine'], \n",
        "    y_preds['h1n1_vaccine'], \n",
        "    'h1n1_vaccine',\n",
        "    ax=ax[0]\n",
        ")\n",
        "plot_roc(\n",
        "    y_eval['seasonal_vaccine'], \n",
        "    y_preds['seasonal_vaccine'], \n",
        "    'seasonal_vaccine',\n",
        "    ax=ax[1]\n",
        ")\n",
        "fig.tight_layout()\n",
        "roc_auc_score(y_eval, y_preds)"
      ],
      "execution_count": 20,
      "outputs": [
        {
          "output_type": "execute_result",
          "data": {
            "text/plain": [
              "0.8672809725599737"
            ]
          },
          "metadata": {
            "tags": []
          },
          "execution_count": 20
        },
        {
          "output_type": "display_data",
          "data": {
            "image/png": "[encoded data removed]",
            "text/plain": [
              "<Figure size 504x252 with 2 Axes>"
            ]
          },
          "metadata": {
            "tags": [],
            "needs_background": "light"
          }
        }
      ]
    },
    {
      "cell_type": "code",
      "metadata": {
        "id": "ZxCUI38rD99_"
      },
      "source": [
        "full_pipeline.fit(features_df, labels_df)"
      ],
      "execution_count": null,
      "outputs": []
    },
    {
      "cell_type": "markdown",
      "metadata": {
        "id": "Q2UxGaMNzcxS"
      },
      "source": [
        "Use the test dataset for prediction"
      ]
    },
    {
      "cell_type": "code",
      "metadata": {
        "id": "5vYZPhQPEswI",
        "outputId": "d0825eaa-3a5a-4bfa-abd8-d8fb2f8a8be2",
        "colab": {
          "base_uri": "https://localhost:8080/",
          "height": 248
        }
      },
      "source": [
        "test_probas = full_pipeline.predict_proba(test_features_df)\n",
        "test_probas"
      ],
      "execution_count": null,
      "outputs": [
        {
          "output_type": "execute_result",
          "data": {
            "text/plain": [
              "[array([[0.9175971 , 0.0824029 ],\n",
              "        [0.94055103, 0.05944897],\n",
              "        [0.8283482 , 0.1716518 ],\n",
              "        ...,\n",
              "        [0.85249015, 0.14750985],\n",
              "        [0.94434483, 0.05565517],\n",
              "        [0.39644896, 0.60355104]]), array([[0.70962644, 0.29037356],\n",
              "        [0.92538557, 0.07461443],\n",
              "        [0.2181173 , 0.7818827 ],\n",
              "        ...,\n",
              "        [0.83815121, 0.16184879],\n",
              "        [0.77939353, 0.22060647],\n",
              "        [0.38902829, 0.61097171]])]"
            ]
          },
          "metadata": {
            "tags": []
          },
          "execution_count": 221
        }
      ]
    },
    {
      "cell_type": "code",
      "metadata": {
        "id": "Bc8ykI4GEson",
        "outputId": "1c042aab-9fca-4aef-f191-9c2a51cec06a",
        "colab": {
          "base_uri": "https://localhost:8080/",
          "height": 223
        }
      },
      "source": [
        "submission_df = pd.read_csv(DATA_PATH + \"submission_format.csv\", \n",
        "                            index_col=\"respondent_id\")\n",
        "submission_df.head()"
      ],
      "execution_count": null,
      "outputs": [
        {
          "output_type": "execute_result",
          "data": {
            "text/html": [
              "<div>\n",
              "<style scoped>\n",
              "    .dataframe tbody tr th:only-of-type {\n",
              "        vertical-align: middle;\n",
              "    }\n",
              "\n",
              "    .dataframe tbody tr th {\n",
              "        vertical-align: top;\n",
              "    }\n",
              "\n",
              "    .dataframe thead th {\n",
              "        text-align: right;\n",
              "    }\n",
              "</style>\n",
              "<table border=\"1\" class=\"dataframe\">\n",
              "  <thead>\n",
              "    <tr style=\"text-align: right;\">\n",
              "      <th></th>\n",
              "      <th>h1n1_vaccine</th>\n",
              "      <th>seasonal_vaccine</th>\n",
              "    </tr>\n",
              "    <tr>\n",
              "      <th>respondent_id</th>\n",
              "      <th></th>\n",
              "      <th></th>\n",
              "    </tr>\n",
              "  </thead>\n",
              "  <tbody>\n",
              "    <tr>\n",
              "      <th>26707</th>\n",
              "      <td>0.5</td>\n",
              "      <td>0.7</td>\n",
              "    </tr>\n",
              "    <tr>\n",
              "      <th>26708</th>\n",
              "      <td>0.5</td>\n",
              "      <td>0.7</td>\n",
              "    </tr>\n",
              "    <tr>\n",
              "      <th>26709</th>\n",
              "      <td>0.5</td>\n",
              "      <td>0.7</td>\n",
              "    </tr>\n",
              "    <tr>\n",
              "      <th>26710</th>\n",
              "      <td>0.5</td>\n",
              "      <td>0.7</td>\n",
              "    </tr>\n",
              "    <tr>\n",
              "      <th>26711</th>\n",
              "      <td>0.5</td>\n",
              "      <td>0.7</td>\n",
              "    </tr>\n",
              "  </tbody>\n",
              "</table>\n",
              "</div>"
            ],
            "text/plain": [
              "               h1n1_vaccine  seasonal_vaccine\n",
              "respondent_id                                \n",
              "26707                   0.5               0.7\n",
              "26708                   0.5               0.7\n",
              "26709                   0.5               0.7\n",
              "26710                   0.5               0.7\n",
              "26711                   0.5               0.7"
            ]
          },
          "metadata": {
            "tags": []
          },
          "execution_count": 222
        }
      ]
    },
    {
      "cell_type": "code",
      "metadata": {
        "id": "V6ddUSYsEskG"
      },
      "source": [
        "# Make sure we have the rows in the same order\n",
        "np.testing.assert_array_equal(test_features_df.index.values, \n",
        "                              submission_df.index.values)"
      ],
      "execution_count": null,
      "outputs": []
    },
    {
      "cell_type": "markdown",
      "metadata": {
        "id": "Z1JluHlxzR6m"
      },
      "source": [
        "Print the results into a csv"
      ]
    },
    {
      "cell_type": "code",
      "metadata": {
        "id": "qf_wLebVEsft",
        "outputId": "d8ea6205-fa42-4421-b5d7-e1b0efc9be1e",
        "colab": {
          "base_uri": "https://localhost:8080/",
          "height": 223
        }
      },
      "source": [
        "submission_df[\"h1n1_vaccine\"] = test_probas[0][:, 1]\n",
        "submission_df[\"seasonal_vaccine\"] = test_probas[1][:, 1]\n",
        "\n",
        "submission_df.head()"
      ],
      "execution_count": null,
      "outputs": [
        {
          "output_type": "execute_result",
          "data": {
            "text/html": [
              "<div>\n",
              "<style scoped>\n",
              "    .dataframe tbody tr th:only-of-type {\n",
              "        vertical-align: middle;\n",
              "    }\n",
              "\n",
              "    .dataframe tbody tr th {\n",
              "        vertical-align: top;\n",
              "    }\n",
              "\n",
              "    .dataframe thead th {\n",
              "        text-align: right;\n",
              "    }\n",
              "</style>\n",
              "<table border=\"1\" class=\"dataframe\">\n",
              "  <thead>\n",
              "    <tr style=\"text-align: right;\">\n",
              "      <th></th>\n",
              "      <th>h1n1_vaccine</th>\n",
              "      <th>seasonal_vaccine</th>\n",
              "    </tr>\n",
              "    <tr>\n",
              "      <th>respondent_id</th>\n",
              "      <th></th>\n",
              "      <th></th>\n",
              "    </tr>\n",
              "  </thead>\n",
              "  <tbody>\n",
              "    <tr>\n",
              "      <th>26707</th>\n",
              "      <td>0.082403</td>\n",
              "      <td>0.290374</td>\n",
              "    </tr>\n",
              "    <tr>\n",
              "      <th>26708</th>\n",
              "      <td>0.059449</td>\n",
              "      <td>0.074614</td>\n",
              "    </tr>\n",
              "    <tr>\n",
              "      <th>26709</th>\n",
              "      <td>0.171652</td>\n",
              "      <td>0.781883</td>\n",
              "    </tr>\n",
              "    <tr>\n",
              "      <th>26710</th>\n",
              "      <td>0.759892</td>\n",
              "      <td>0.881681</td>\n",
              "    </tr>\n",
              "    <tr>\n",
              "      <th>26711</th>\n",
              "      <td>0.283816</td>\n",
              "      <td>0.370688</td>\n",
              "    </tr>\n",
              "  </tbody>\n",
              "</table>\n",
              "</div>"
            ],
            "text/plain": [
              "               h1n1_vaccine  seasonal_vaccine\n",
              "respondent_id                                \n",
              "26707              0.082403          0.290374\n",
              "26708              0.059449          0.074614\n",
              "26709              0.171652          0.781883\n",
              "26710              0.759892          0.881681\n",
              "26711              0.283816          0.370688"
            ]
          },
          "metadata": {
            "tags": []
          },
          "execution_count": 224
        }
      ]
    },
    {
      "cell_type": "code",
      "metadata": {
        "id": "cC_qpDJKEsa9"
      },
      "source": [
        "submission_df.to_csv(DATA_PATH + 'my_submission.csv', index=True)"
      ],
      "execution_count": null,
      "outputs": []
    }
  ]
}